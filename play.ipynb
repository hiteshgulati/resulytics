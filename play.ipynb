{
 "cells": [
  {
   "cell_type": "code",
   "execution_count": null,
   "metadata": {},
   "outputs": [],
   "source": [
    "import pandas as pd\n",
    "import numpy as np"
   ]
  },
  {
   "cell_type": "code",
   "execution_count": 44,
   "metadata": {},
   "outputs": [],
   "source": [
    "df = pd.read_csv(\"Cleaned Dataset.csv\")\n",
    "results = pd.read_csv(\"NFL Analytics Challenge Data Set 3.csv\")\n",
    "df['date'] = pd.to_datetime(df['date'])\n",
    "results['date'] = pd.to_datetime(results['date'])\n",
    "df = pd.merge(df,results,on=['date','home','away'])\n",
    "df['home-away'] = df['score_home'] - df['score_away']\n",
    "df['home_win'] = np.where(df['home-away']>0,True,False)\n",
    "df['winner'] = df['home']\n",
    "df.loc[df['home_win']==False,'winner'] = df.loc[df['home_win']==False,'away']"
   ]
  },
  {
   "cell_type": "code",
   "execution_count": null,
   "metadata": {},
   "outputs": [],
   "source": []
  }
 ],
 "metadata": {
  "interpreter": {
   "hash": "26eb8a356c40e88eb1a8d53898365729f5ec88557292f52c67f28b1022b8ee16"
  },
  "kernelspec": {
   "display_name": "Python 3.10.3 64-bit (windows store)",
   "language": "python",
   "name": "python3"
  },
  "language_info": {
   "codemirror_mode": {
    "name": "ipython",
    "version": 3
   },
   "file_extension": ".py",
   "mimetype": "text/x-python",
   "name": "python",
   "nbconvert_exporter": "python",
   "pygments_lexer": "ipython3",
   "version": "3.8.5"
  },
  "orig_nbformat": 4
 },
 "nbformat": 4,
 "nbformat_minor": 2
}
