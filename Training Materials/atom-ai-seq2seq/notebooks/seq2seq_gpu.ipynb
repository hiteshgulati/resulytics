{
 "cells": [
  {
   "cell_type": "code",
   "execution_count": 3,
   "id": "8f66ede6",
   "metadata": {},
   "outputs": [
    {
     "name": "stdout",
     "output_type": "stream",
     "text": [
      "Collecting fuzzywuzzy\n",
      "  Downloading fuzzywuzzy-0.18.0-py2.py3-none-any.whl (18 kB)\n",
      "Installing collected packages: fuzzywuzzy\n",
      "Successfully installed fuzzywuzzy-0.18.0\n",
      "\u001b[33mWARNING: You are using pip version 21.1.3; however, version 21.2.4 is available.\n",
      "You should consider upgrading via the '/home/ec2-user/anaconda3/envs/pytorch_p36/bin/python -m pip install --upgrade pip' command.\u001b[0m\n"
     ]
    }
   ],
   "source": [
    "!pip install fuzzywuzzy"
   ]
  },
  {
   "cell_type": "code",
   "execution_count": 4,
   "id": "37838cf9",
   "metadata": {},
   "outputs": [
    {
     "name": "stderr",
     "output_type": "stream",
     "text": [
      "/home/ec2-user/anaconda3/envs/pytorch_p36/lib/python3.6/site-packages/fuzzywuzzy/fuzz.py:11: UserWarning: Using slow pure-python SequenceMatcher. Install python-Levenshtein to remove this warning\n",
      "  warnings.warn('Using slow pure-python SequenceMatcher. Install python-Levenshtein to remove this warning')\n"
     ]
    },
    {
     "name": "stdout",
     "output_type": "stream",
     "text": [
      "GPU\n"
     ]
    }
   ],
   "source": [
    "from __future__ import unicode_literals, print_function, division\n",
    "import pandas as pd\n",
    "import numpy as np\n",
    "import statistics\n",
    "import re\n",
    "from fuzzywuzzy import fuzz\n",
    "from fuzzywuzzy import process\n",
    "import string\n",
    "from nltk import word_tokenize\n",
    "from nltk.translate.bleu_score import sentence_bleu\n",
    "import re\n",
    "from tqdm import tqdm\n",
    "\n",
    "from io import open\n",
    "import unicodedata\n",
    "import re\n",
    "import random\n",
    "import matplotlib.pyplot as plt\n",
    "import matplotlib.ticker as ticker\n",
    "plt.switch_backend('agg')\n",
    "import time\n",
    "import math\n",
    "from sklearn.model_selection import train_test_split\n",
    "import torch\n",
    "import torch.nn as nn\n",
    "from torch import optim\n",
    "import torch.nn.functional as F\n",
    "\n",
    "if(torch.cuda.is_available()): \n",
    "    print(\"GPU\")\n",
    "    device = torch.device(\"cuda\")\n",
    "else: \n",
    "    print(\"CPU\")\n",
    "    device = torch.device(\"cpu\")"
   ]
  },
  {
   "cell_type": "code",
   "execution_count": 5,
   "id": "252bf95b",
   "metadata": {},
   "outputs": [
    {
     "name": "stdout",
     "output_type": "stream",
     "text": [
      "Training size: 9465\n",
      "Test size: 1677\n"
     ]
    }
   ],
   "source": [
    "df_train = pd.read_csv(open('data_train.csv', 'rb'))\n",
    "df_test = pd.read_csv(open('data_test.csv', 'rb'))\n",
    "#filter out mappings with no change\n",
    "df_train_filtered = df_train[df_train['Similarity'] != 1.00]\n",
    "df_test_filtered = df_test[df_test['Similarity'] != 1.00]\n",
    "print(f'Training size: {len(df_train_filtered)}\\nTest size: {len(df_test_filtered)}')"
   ]
  },
  {
   "cell_type": "code",
   "execution_count": 6,
   "id": "a55415e6",
   "metadata": {
    "scrolled": true
   },
   "outputs": [
    {
     "data": {
      "text/html": [
       "<div>\n",
       "<style scoped>\n",
       "    .dataframe tbody tr th:only-of-type {\n",
       "        vertical-align: middle;\n",
       "    }\n",
       "\n",
       "    .dataframe tbody tr th {\n",
       "        vertical-align: top;\n",
       "    }\n",
       "\n",
       "    .dataframe thead th {\n",
       "        text-align: right;\n",
       "    }\n",
       "</style>\n",
       "<table border=\"1\" class=\"dataframe\">\n",
       "  <thead>\n",
       "    <tr style=\"text-align: right;\">\n",
       "      <th></th>\n",
       "      <th>S L1</th>\n",
       "      <th>S L2</th>\n",
       "      <th>S L3</th>\n",
       "      <th>S L4</th>\n",
       "      <th>S L5</th>\n",
       "      <th>S L6</th>\n",
       "      <th>S L7</th>\n",
       "      <th>S L8</th>\n",
       "      <th>S L9</th>\n",
       "      <th>S L10</th>\n",
       "      <th>Source Description</th>\n",
       "    </tr>\n",
       "  </thead>\n",
       "  <tbody>\n",
       "    <tr>\n",
       "      <th>0</th>\n",
       "      <td>M003 Mars Financial Statement V2 (Full Trial B...</td>\n",
       "      <td>Profit and Loss</td>\n",
       "      <td>43. Non Operating</td>\n",
       "      <td>Non Operating Costs</td>\n",
       "      <td>nan</td>\n",
       "      <td>nan</td>\n",
       "      <td>nan</td>\n",
       "      <td>nan</td>\n",
       "      <td>nan</td>\n",
       "      <td>nan</td>\n",
       "      <td>Non-Operating Costs - Project 8</td>\n",
       "    </tr>\n",
       "    <tr>\n",
       "      <th>1</th>\n",
       "      <td>MFPS Balance Sheet (MARS FPPS structure)</td>\n",
       "      <td>PROFIT &amp; LOSS STATEMENT</td>\n",
       "      <td>Income before Income Taxes</td>\n",
       "      <td>Operating Profit</td>\n",
       "      <td>Margin after Conversion</td>\n",
       "      <td>Cost of Manufactured Goods Sold</td>\n",
       "      <td>Other Cost of Sales</td>\n",
       "      <td>Factory Variances &amp; costs</td>\n",
       "      <td>nan</td>\n",
       "      <td>nan</td>\n",
       "      <td>Revaluation of Semi-Fin.Products Inv.(SAP post...</td>\n",
       "    </tr>\n",
       "    <tr>\n",
       "      <th>2</th>\n",
       "      <td>MFPS Balance Sheet (MARS FPPS structure)</td>\n",
       "      <td>2926 NET OPERATING ASSETS Assets</td>\n",
       "      <td>2912 Total Operating Assets</td>\n",
       "      <td>2893 Gross Operating Assets</td>\n",
       "      <td>2875 Current Operating Assets</td>\n",
       "      <td>2336 Other Current</td>\n",
       "      <td>2332 Prepaid Exp/Def Charges</td>\n",
       "      <td>Prepayments &amp; Other Current AR</td>\n",
       "      <td>nan</td>\n",
       "      <td>nan</td>\n",
       "      <td>Prepayments Equipment Rental</td>\n",
       "    </tr>\n",
       "  </tbody>\n",
       "</table>\n",
       "</div>"
      ],
      "text/plain": [
       "                                                S L1  \\\n",
       "0  M003 Mars Financial Statement V2 (Full Trial B...   \n",
       "1           MFPS Balance Sheet (MARS FPPS structure)   \n",
       "2           MFPS Balance Sheet (MARS FPPS structure)   \n",
       "\n",
       "                               S L2                         S L3  \\\n",
       "0                   Profit and Loss            43. Non Operating   \n",
       "1           PROFIT & LOSS STATEMENT   Income before Income Taxes   \n",
       "2  2926 NET OPERATING ASSETS Assets  2912 Total Operating Assets   \n",
       "\n",
       "                          S L4                           S L5  \\\n",
       "0          Non Operating Costs                            nan   \n",
       "1             Operating Profit        Margin after Conversion   \n",
       "2  2893 Gross Operating Assets  2875 Current Operating Assets   \n",
       "\n",
       "                              S L6                          S L7  \\\n",
       "0                              nan                           nan   \n",
       "1  Cost of Manufactured Goods Sold           Other Cost of Sales   \n",
       "2               2336 Other Current  2332 Prepaid Exp/Def Charges   \n",
       "\n",
       "                             S L8 S L9 S L10  \\\n",
       "0                             nan  nan   nan   \n",
       "1       Factory Variances & costs  nan   nan   \n",
       "2  Prepayments & Other Current AR  nan   nan   \n",
       "\n",
       "                                  Source Description  \n",
       "0                    Non-Operating Costs - Project 8  \n",
       "1  Revaluation of Semi-Fin.Products Inv.(SAP post...  \n",
       "2                       Prepayments Equipment Rental  "
      ]
     },
     "execution_count": 6,
     "metadata": {},
     "output_type": "execute_result"
    }
   ],
   "source": [
    "#extract source and target data and cast to string\n",
    "source_train = df_train_filtered.loc[:, 'S L1':'Source Description'].astype(str).reset_index(drop=True)\n",
    "target_train = df_train_filtered.loc[:, 'T L1':'Target Description'].astype(str).reset_index(drop=True)\n",
    "\n",
    "source_test = df_test_filtered.loc[:, 'S L1':'Source Description'].astype(str).reset_index(drop=True)\n",
    "target_test = df_test_filtered.loc[:, 'T L1':'Target Description'].astype(str).reset_index(drop=True)\n",
    "\n",
    "source_train.head(3)"
   ]
  },
  {
   "cell_type": "code",
   "execution_count": 7,
   "id": "6960091d",
   "metadata": {},
   "outputs": [
    {
     "data": {
      "text/html": [
       "<div>\n",
       "<style scoped>\n",
       "    .dataframe tbody tr th:only-of-type {\n",
       "        vertical-align: middle;\n",
       "    }\n",
       "\n",
       "    .dataframe tbody tr th {\n",
       "        vertical-align: top;\n",
       "    }\n",
       "\n",
       "    .dataframe thead th {\n",
       "        text-align: right;\n",
       "    }\n",
       "</style>\n",
       "<table border=\"1\" class=\"dataframe\">\n",
       "  <thead>\n",
       "    <tr style=\"text-align: right;\">\n",
       "      <th></th>\n",
       "      <th>T L1</th>\n",
       "      <th>T L2</th>\n",
       "      <th>T L3</th>\n",
       "      <th>T L4</th>\n",
       "      <th>Target Description</th>\n",
       "    </tr>\n",
       "  </thead>\n",
       "  <tbody>\n",
       "    <tr>\n",
       "      <th>0</th>\n",
       "      <td>Operating Expenses</td>\n",
       "      <td>Other Operating Expenses</td>\n",
       "      <td>For Future Use - Other Operating Expenses</td>\n",
       "      <td>nan</td>\n",
       "      <td>Other Operating - Project 8</td>\n",
       "    </tr>\n",
       "    <tr>\n",
       "      <th>1</th>\n",
       "      <td>Cost of Sales</td>\n",
       "      <td>Cost of Manufactured Goods</td>\n",
       "      <td>Inventory Changes</td>\n",
       "      <td>Inventory Value Changes</td>\n",
       "      <td>Inventory Adjust - Price Revaluation-SemiFin G...</td>\n",
       "    </tr>\n",
       "    <tr>\n",
       "      <th>2</th>\n",
       "      <td>Assets</td>\n",
       "      <td>Prepaid Expenses and Other Current Assets</td>\n",
       "      <td>Prepaid Expenses</td>\n",
       "      <td>Prepaid Expenses</td>\n",
       "      <td>Prepayments - General &amp; Administrative</td>\n",
       "    </tr>\n",
       "  </tbody>\n",
       "</table>\n",
       "</div>"
      ],
      "text/plain": [
       "                 T L1                                       T L2  \\\n",
       "0  Operating Expenses                   Other Operating Expenses   \n",
       "1       Cost of Sales                 Cost of Manufactured Goods   \n",
       "2              Assets  Prepaid Expenses and Other Current Assets   \n",
       "\n",
       "                                        T L3                     T L4  \\\n",
       "0  For Future Use - Other Operating Expenses                      nan   \n",
       "1                          Inventory Changes  Inventory Value Changes   \n",
       "2                           Prepaid Expenses         Prepaid Expenses   \n",
       "\n",
       "                                  Target Description  \n",
       "0                        Other Operating - Project 8  \n",
       "1  Inventory Adjust - Price Revaluation-SemiFin G...  \n",
       "2             Prepayments - General & Administrative  "
      ]
     },
     "execution_count": 7,
     "metadata": {},
     "output_type": "execute_result"
    }
   ],
   "source": [
    "target_train.head(3)"
   ]
  },
  {
   "cell_type": "code",
   "execution_count": 278,
   "id": "8a37128c",
   "metadata": {},
   "outputs": [],
   "source": [
    "#helper functions\n",
    "\n",
    "def unicodeToAscii(s):\n",
    "    return ''.join(\n",
    "        c for c in unicodedata.normalize('NFD', s)\n",
    "        if unicodedata.category(c) != 'Mn'\n",
    "    )\n",
    "\n",
    "def plot_loss(losses, n_iters, benchmark_every):\n",
    "    \n",
    "    %matplotlib inline\n",
    "    fig = plt.figure()\n",
    "    ax = fig.add_axes([0,0,1,1])\n",
    "    x = np.arange(0, n_iters, benchmark_every)\n",
    "    y = losses\n",
    "    ax.plot(x, y)\n",
    "    ax.set_title('Training Loss')\n",
    "    ax.set_ylabel('Loss')\n",
    "    ax.set_xlabel('Iteration')\n",
    "    plt.show()"
   ]
  },
  {
   "cell_type": "code",
   "execution_count": 294,
   "id": "4fe410bb",
   "metadata": {},
   "outputs": [
    {
     "data": {
      "text/plain": [
       "'m003 mars financial statement v2 full trial balan profit and loss 43 non operating non operating costs nan nan nan nan nan nan'"
      ]
     },
     "execution_count": 294,
     "metadata": {},
     "output_type": "execute_result"
    }
   ],
   "source": [
    "def preprocess_text(text):\n",
    "\n",
    "    text = text.lower().strip()\n",
    "    text = \"\".join([char for char in text if char not in string.punctuation])\n",
    "    text = re.sub('\\\\s+', ' ', text)\n",
    "\n",
    "    return text\n",
    "\n",
    "def process_hierarchy_string(df, row_idx, num_levels, level_prefix, delimiter=' '):\n",
    "\n",
    "    hierarchy = []\n",
    "    for l in range(num_levels):\n",
    "        level_label = level_prefix+str(l+1)\n",
    "        level_text = df.loc[row_idx, level_label]\n",
    "        #if level_text == 'nan': continue\n",
    "        #else: \n",
    "        level_text = preprocess_text(level_text)\n",
    "        hierarchy.append(level_text)\n",
    "\n",
    "    hierarchy_string = delimiter.join(hierarchy)\n",
    "    \n",
    "    return hierarchy_string \n",
    "\n",
    "process_hierarchy_string(source_train, row_idx=0, num_levels=10, level_prefix = 'S L')"
   ]
  },
  {
   "cell_type": "code",
   "execution_count": 295,
   "id": "e2cb5455",
   "metadata": {},
   "outputs": [],
   "source": [
    "SOS_token = 0\n",
    "EOS_token = 1\n",
    "\n",
    "class Vocabulary:\n",
    "\n",
    "    def __init__(self, name):\n",
    "        self.name = name\n",
    "        self.word2index = {}\n",
    "        self.word2count = {}\n",
    "        self.index2word = {0: \"SOS\", 1: \"EOS\", 2: \"UNKNOWN\"}\n",
    "        self.n_words = 3  # Count SOS, EOS, UNKNOWN\n",
    "\n",
    "    def add_sentence(self, sentence):\n",
    "        for word in sentence.split(' '):\n",
    "            self.add_word(word)\n",
    "\n",
    "    def add_word(self, word):\n",
    "        if word not in self.word2index:\n",
    "            self.word2index[word] = self.n_words\n",
    "            self.word2count[word] = 1\n",
    "            self.index2word[self.n_words] = word\n",
    "            self.n_words += 1\n",
    "        else:\n",
    "            self.word2count[word] += 1"
   ]
  },
  {
   "cell_type": "code",
   "execution_count": 296,
   "id": "0e8b66ab",
   "metadata": {},
   "outputs": [],
   "source": [
    "def create_pairs(x_data, y_data, source_length ='short', target_length='short', hierarchy_delimiter=' '):\n",
    "\n",
    "    x_data = x_data.reset_index(drop=True)\n",
    "    y_data = y_data.reset_index(drop=True)\n",
    "\n",
    "    sources, targets = [], []\n",
    "\n",
    "    for i in range(len(x_data)):\n",
    "        source_hierarchy = process_hierarchy_string(x_data, row_idx=i, num_levels=10, level_prefix = 'S L', delimiter=hierarchy_delimiter)\n",
    "        target_hierarchy = process_hierarchy_string(y_data, row_idx=i, num_levels=4, level_prefix = 'T L', delimiter=hierarchy_delimiter)\n",
    "\n",
    "        source_description = preprocess_text(x_data.loc[i, 'Source Description'])\n",
    "        target_description = preprocess_text(y_data.loc[i, 'Target Description'])\n",
    "\n",
    "        if source_length == 'short':\n",
    "            source_text = source_description\n",
    "        elif source_length == 'long':\n",
    "            source_text = source_hierarchy + hierarchy_delimiter + source_description\n",
    "        else:\n",
    "            print(\"Error: unrecognized input for source_length, try 'short' or 'long'\")\n",
    "            return 0\n",
    "\n",
    "        if target_length == 'short':\n",
    "            target_text = target_description  \n",
    "        elif target_length == 'long':\n",
    "            target_text = target_hierarchy + hierarchy_delimiter + target_description\n",
    "        else:\n",
    "            print(\"Error: unrecognized input for target_length, try 'short' or 'long'\")\n",
    "            return 0\n",
    "\n",
    "        sources.append(source_text)\n",
    "        targets.append(target_text)\n",
    "\n",
    "    pairs = list((zip(sources, targets)))\n",
    "    \n",
    "    return pairs\n",
    "\n",
    "def create_vocabulary(set1, set2, x_data, y_data, source_length='short', target_length='short', hierarchy_delimiter=' '):\n",
    "\n",
    "    input_set = Vocabulary(set1)\n",
    "    output_set = Vocabulary(set2)\n",
    "\n",
    "    pairs = create_pairs(x_data, y_data, source_length, target_length, hierarchy_delimiter)\n",
    "\n",
    "    print(\"%s pairs\" % len(pairs))\n",
    "    for pair in pairs:\n",
    "        input_set.add_sentence(pair[0])\n",
    "        output_set.add_sentence(pair[1])\n",
    "\n",
    "    print(\"Vocabulary:\")\n",
    "    print(f'\\t{input_set.name}: {input_set.n_words}')\n",
    "    print(f'\\t{output_set.name}: {output_set.n_words}')\n",
    "\n",
    "    return input_set, output_set, pairs"
   ]
  },
  {
   "cell_type": "code",
   "execution_count": 297,
   "id": "92294c5a",
   "metadata": {},
   "outputs": [],
   "source": [
    "MAX_LENGTH = 100\n",
    "\n",
    "class Encoder(nn.Module):\n",
    "\n",
    "    def __init__(self, input_size, hidden_size):\n",
    "        super(Encoder, self).__init__()\n",
    "        self.hidden_size = hidden_size\n",
    "        self.embedding = nn.Embedding(input_size, hidden_size)\n",
    "        self.gru = nn.GRU(hidden_size, hidden_size)\n",
    "\n",
    "    def forward(self, input, hidden):\n",
    "        embedded = self.embedding(input).view(1, 1, -1)\n",
    "        output = embedded\n",
    "        output, hidden = self.gru(output, hidden)\n",
    "        return output, hidden\n",
    "\n",
    "    def initHidden(self):\n",
    "        return torch.zeros(1, 1, self.hidden_size, device=device)\n",
    "\n",
    "\n",
    "class Decoder(nn.Module):\n",
    "\n",
    "    def __init__(self, hidden_size, output_size):\n",
    "        super(Decoder, self).__init__()\n",
    "        self.name = 'Decoder'\n",
    "        self.hidden_size = hidden_size\n",
    "        self.embedding = nn.Embedding(output_size, hidden_size)\n",
    "        self.gru = nn.GRU(hidden_size, hidden_size)\n",
    "        self.out = nn.Linear(hidden_size, output_size)\n",
    "        self.softmax = nn.LogSoftmax(dim=1)\n",
    "\n",
    "    def forward(self, input, hidden):\n",
    "        output = self.embedding(input).view(1, 1, -1)\n",
    "        output = F.relu(output)\n",
    "        output, hidden = self.gru(output, hidden)\n",
    "        output = self.softmax(self.out(output[0]))\n",
    "        return output, hidden\n",
    "\n",
    "    def initHidden(self):\n",
    "        return torch.zeros(1, 1, self.hidden_size, device=device)\n",
    "\n",
    "\n",
    "class AttnDecoder(nn.Module):\n",
    "\n",
    "    def __init__(self, hidden_size, output_size, dropout_p=0.1, max_length=MAX_LENGTH):\n",
    "        super(AttnDecoder, self).__init__()\n",
    "        self.name = 'AttnDecoder'\n",
    "        self.hidden_size = hidden_size\n",
    "        self.output_size = output_size\n",
    "        self.dropout_p = dropout_p\n",
    "        self.max_length = max_length\n",
    "\n",
    "        self.embedding = nn.Embedding(self.output_size, self.hidden_size)\n",
    "        self.attn = nn.Linear(self.hidden_size * 2, self.max_length)\n",
    "        self.attn_combine = nn.Linear(self.hidden_size * 2, self.hidden_size)\n",
    "        self.dropout = nn.Dropout(self.dropout_p)\n",
    "        self.gru = nn.GRU(self.hidden_size, self.hidden_size)\n",
    "        self.out = nn.Linear(self.hidden_size, self.output_size)\n",
    "\n",
    "    def forward(self, input, hidden, encoder_outputs):\n",
    "        embedded = self.embedding(input).view(1, 1, -1)\n",
    "        embedded = self.dropout(embedded)\n",
    "        attn_weights = F.softmax(self.attn(torch.cat((embedded[0], hidden[0]), 1)), dim=1)\n",
    "        attn_applied = torch.bmm(attn_weights.unsqueeze(0), encoder_outputs.unsqueeze(0))\n",
    "\n",
    "        output = torch.cat((embedded[0], attn_applied[0]), 1)\n",
    "        output = self.attn_combine(output).unsqueeze(0)\n",
    "        output = F.relu(output)\n",
    "        output, hidden = self.gru(output, hidden)\n",
    "        output = F.log_softmax(self.out(output[0]), dim=1)\n",
    "        return output, hidden, attn_weights\n",
    "\n",
    "    def initHidden(self):\n",
    "        return torch.zeros(1, 1, self.hidden_size, device=device)"
   ]
  },
  {
   "cell_type": "code",
   "execution_count": 298,
   "id": "111d1624",
   "metadata": {},
   "outputs": [],
   "source": [
    "def indexes_from_sentence(set, sentence):\n",
    "    sentence_indexes = []\n",
    "    unknown_word = None\n",
    "    for word in sentence.split(' '):\n",
    "        if word not in set.word2index:\n",
    "            sentence_indexes.append(2)\n",
    "            unknown_word = word\n",
    "        else:\n",
    "            sentence_indexes.append(set.word2index[word])\n",
    "            \n",
    "    return sentence_indexes, unknown_word\n",
    "\n",
    "\n",
    "def tensor_from_sentence(set, sentence):\n",
    "\n",
    "    indexes, unknown_word = indexes_from_sentence(set, sentence)\n",
    "    indexes.append(EOS_token)\n",
    "    return torch.tensor(indexes, dtype=torch.long, device=device).view(-1, 1), unknown_word\n",
    "\n",
    "\n",
    "def tensors_from_pair(pair, input_set, output_set):\n",
    "\n",
    "    input_tensor, unknown_word_input = tensor_from_sentence(input_set, pair[0])\n",
    "    target_tensor, unknown_word_target = tensor_from_sentence(output_set, pair[1])\n",
    "    return (input_tensor, target_tensor), unknown_word_input, unknown_word_target"
   ]
  },
  {
   "cell_type": "code",
   "execution_count": 299,
   "id": "58cf4c9f",
   "metadata": {},
   "outputs": [],
   "source": [
    "teacher_forcing_ratio = 0.0\n",
    "\n",
    "def run_iter(input_tensor, target_tensor, encoder, decoder, encoder_optimizer, decoder_optimizer, criterion, max_length=MAX_LENGTH):\n",
    "\n",
    "    encoder_hidden = encoder.initHidden()\n",
    "    encoder_optimizer.zero_grad()\n",
    "    decoder_optimizer.zero_grad()\n",
    "    input_length = input_tensor.size(0)\n",
    "    target_length = target_tensor.size(0)\n",
    "    encoder_outputs = torch.zeros(max_length, encoder.hidden_size, device=device)\n",
    "    loss = 0\n",
    "\n",
    "    for en in range(input_length):\n",
    "        encoder_output, encoder_hidden = encoder(input_tensor[en], encoder_hidden)\n",
    "        encoder_outputs[en] = encoder_output[0, 0]\n",
    "\n",
    "    decoder_input = torch.tensor([[SOS_token]], device=device)\n",
    "    decoder_hidden = encoder_hidden\n",
    "\n",
    "    use_teacher_forcing = True if random.random() < teacher_forcing_ratio else False\n",
    "\n",
    "    if use_teacher_forcing:\n",
    "        # Teacher forcing: Feed the target as the next input\n",
    "        for de in range(target_length):\n",
    "            if(decoder.name == 'AttnDecoder'):\n",
    "                decoder_output, decoder_hidden, decoder_attention = decoder(\n",
    "                    decoder_input, decoder_hidden, encoder_outputs)\n",
    "            else:\n",
    "                decoder_output, decoder_hidden = decoder(decoder_input, decoder_hidden)\n",
    "                \n",
    "            loss += criterion(decoder_output, target_tensor[de])\n",
    "            decoder_input = target_tensor[de]  # Teacher forcing\n",
    "\n",
    "    else:\n",
    "        # Without teacher forcing: use its own predictions as the next input\n",
    "        for de in range(target_length):\n",
    "            if(decoder.name == 'AttnDecoder'):\n",
    "                decoder_output, decoder_hidden, decoder_attention = decoder(\n",
    "                    decoder_input, decoder_hidden, encoder_outputs)\n",
    "            else:\n",
    "                decoder_output, decoder_hidden = decoder(decoder_input, decoder_hidden)\n",
    "\n",
    "            topv, topi = decoder_output.topk(1)\n",
    "            decoder_input = topi.squeeze().detach()  # detach from history as input\n",
    "\n",
    "            loss += criterion(decoder_output, target_tensor[de])\n",
    "            if decoder_input.item() == EOS_token:\n",
    "                break\n",
    "\n",
    "    loss.backward()\n",
    "\n",
    "    encoder_optimizer.step()\n",
    "    decoder_optimizer.step()\n",
    "\n",
    "    return loss.item() / target_length"
   ]
  },
  {
   "cell_type": "code",
   "execution_count": 300,
   "id": "70ab6185",
   "metadata": {},
   "outputs": [],
   "source": [
    "def train_model(input_set, output_set, encoder, decoder, pairs, n_iters, benchmark_every = 100, learning_rate=0.01):\n",
    "\n",
    "    print('Training model...')\n",
    "    loss_total = 0  # Reset every benchmark_every\n",
    "    losses = []\n",
    "\n",
    "    encoder_optimizer = optim.SGD(encoder.parameters(), lr=learning_rate)\n",
    "    decoder_optimizer = optim.SGD(decoder.parameters(), lr=learning_rate)\n",
    "    training_pairs = [tensors_from_pair(random.choice(pairs), input_set, output_set)[0] for i in range(n_iters)]\n",
    "    criterion = nn.NLLLoss()\n",
    "\n",
    "    for i in tqdm(range(1, n_iters + 1)):\n",
    "        training_pair = training_pairs[i - 1]\n",
    "        input_tensor = training_pair[0]\n",
    "        target_tensor = training_pair[1]\n",
    "\n",
    "        loss = run_iter(input_tensor, target_tensor, encoder,\n",
    "                        decoder, encoder_optimizer, decoder_optimizer, criterion)\n",
    "        \n",
    "        loss_total += loss\n",
    "        \n",
    "        if i % benchmark_every == 0:\n",
    "            loss_avg = loss_total / benchmark_every\n",
    "            losses.append(loss_avg)\n",
    "            loss_total = 0\n",
    "    \n",
    "    plot_loss(losses, n_iters, benchmark_every)\n",
    "    print(f'Final loss: {losses[-1]}')\n",
    "    \n",
    "    "
   ]
  },
  {
   "cell_type": "code",
   "execution_count": 301,
   "id": "52311f3c",
   "metadata": {},
   "outputs": [],
   "source": [
    "def evaluate(input_set, output_set, encoder, decoder, sentence, max_length=MAX_LENGTH):\n",
    "    \n",
    "    with torch.no_grad():\n",
    "        input_tensor, unknown_word = tensor_from_sentence(input_set, sentence)\n",
    "        input_length = input_tensor.size()[0]\n",
    "        encoder_hidden = encoder.initHidden()\n",
    "        encoder_outputs = torch.zeros(max_length, encoder.hidden_size, device=device)\n",
    "\n",
    "        for en in range(input_length):\n",
    "            encoder_output, encoder_hidden = encoder(input_tensor[en], encoder_hidden)\n",
    "            encoder_outputs[en] += encoder_output[0, 0]\n",
    "\n",
    "        decoder_input = torch.tensor([[SOS_token]], device=device)  # SOS\n",
    "        decoder_hidden = encoder_hidden\n",
    "\n",
    "        decoded_words = []\n",
    "        decoder_attentions = torch.zeros(max_length, max_length)\n",
    "\n",
    "        for de in range(max_length):\n",
    "            if(decoder.name == 'AttnDecoder'):\n",
    "                decoder_output, decoder_hidden, decoder_attention = decoder(\n",
    "                    decoder_input, decoder_hidden, encoder_outputs)\n",
    "                    \n",
    "                decoder_attentions[de] = decoder_attention.data\n",
    "\n",
    "            else:\n",
    "                decoder_output, decoder_hidden = decoder(decoder_input, decoder_hidden)\n",
    "            \n",
    "            topv, topi = decoder_output.data.topk(1)\n",
    "\n",
    "            if topi.item() == EOS_token:\n",
    "                decoded_words.append('<EOS>')\n",
    "                break\n",
    "            else:\n",
    "                decoded_words.append(output_set.index2word[topi.item()])\n",
    "\n",
    "            decoder_input = topi.squeeze().detach()\n",
    "\n",
    "        return decoded_words, decoder_attentions[:de + 1], unknown_word\n",
    "\n",
    "\n",
    "def print_predictions_on_test(input_set, output_set, encoder, decoder, sources, targets, n=10, source_length='short', target_length='short', hierarchy_delimiter=' '):\n",
    "    for i in range(n):\n",
    "        pairs = create_pairs(sources, targets, source_length, target_length, hierarchy_delimiter)\n",
    "        pair = random.choice(pairs)\n",
    "        print(f'SOURCE: {pair[0]}')\n",
    "        print(f'TARGET: {pair[1]}')\n",
    "        output_words, _, unknown_word = evaluate(input_set, output_set, encoder, decoder, pair[0])\n",
    "        output_sentence = ' '.join(output_words)\n",
    "        if unknown_word != None:\n",
    "            print(f'UNKNOWN WORD: {unknown_word}')\n",
    "        print(f'PREDICTION: {output_sentence} \\n')\n",
    "\n",
    "\n",
    "def eval_on_test(input_set, output_set, encoder, decoder, sources, targets, source_length='short', target_length='short', hierarchy_delimiter=' '):\n",
    "\n",
    "    prediction_similarities_to_targets = []\n",
    "    pairs = create_pairs(sources, targets, source_length, target_length, hierarchy_delimiter)\n",
    "    score = 0\n",
    "    max_score = len(pairs)\n",
    "    bleu_scores = []\n",
    "    unknown_words = []\n",
    "\n",
    "    for pair in pairs:\n",
    "        target = pair[1]\n",
    "        output_words, _, unknown_word = evaluate(input_set, output_set, encoder, decoder, pair[0])\n",
    "        prediction = ' '.join(output_words[:-1])\n",
    "\n",
    "        target_words = [target.split(' ')]\n",
    "        prediction_words = prediction.split(' ')\n",
    "        bleu_score = round(sentence_bleu(target_words, prediction_words, weights=(1,)), 7)\n",
    "        bleu_scores.append(bleu_score)\n",
    "        \n",
    "        if prediction == target: score += 1\n",
    "        if unknown_word != None: unknown_words.append(unknown_word)\n",
    "\n",
    "        pred_similarity = fuzz.token_sort_ratio(target, prediction)/100\n",
    "        prediction_similarities_to_targets.append(pred_similarity)\n",
    "\n",
    "    match_accuracy = score/max_score    \n",
    "    avg_pred_similarity_to_target = np.mean(prediction_similarities_to_targets)\n",
    "    unique_unknowns = set(unknown_words)\n",
    "\n",
    "    print(f'Bleu score average: {np.mean(bleu_scores):.2f} \\\n",
    "            \\nprediction exact match accuracy: {match_accuracy*100:.2f}% \\\n",
    "            \\naverage prediction similarity to target: {avg_pred_similarity_to_target*100:.2f}% \\\n",
    "            \\nunknown words found: {len(unique_unknowns)}/{max_score}')\n",
    "\n",
    "    return match_accuracy, avg_pred_similarity_to_target, unique_unknowns"
   ]
  },
  {
   "cell_type": "code",
   "execution_count": 306,
   "id": "899a0972",
   "metadata": {},
   "outputs": [
    {
     "name": "stdout",
     "output_type": "stream",
     "text": [
      "9465 pairs\n",
      "Vocabulary:\n",
      "\tlegacy: 4862\n",
      "\tnew: 1749\n",
      "('mfps balance sheet mars fpps structure 2926 net operating assets assets 2925 total operating liabilities 2923 current operating liabilities 36041 med term incentive plan cur nan nan nan nan nan msop plus liabilities current', 'liabilities accounts payable accrued liabilities accrued salaries wages benefits bonuses and payroll taxes accrued incentive plans long term incentive plans current')\n"
     ]
    }
   ],
   "source": [
    "input_set, output_set, pairs = create_vocabulary('legacy', 'new', source_train, target_train, source_length = 'long', target_length = 'long')\n",
    "print(random.choice(pairs))"
   ]
  },
  {
   "cell_type": "code",
   "execution_count": 307,
   "id": "71d41aa5",
   "metadata": {},
   "outputs": [
    {
     "name": "stdout",
     "output_type": "stream",
     "text": [
      "Training model...\n"
     ]
    },
    {
     "name": "stderr",
     "output_type": "stream",
     "text": [
      "100%|██████████| 10000/10000 [06:56<00:00, 23.99it/s]\n"
     ]
    },
    {
     "data": {
      "image/png": "[encoded data removed]",
      "text/plain": [
       "<Figure size 432x288 with 1 Axes>"
      ]
     },
     "metadata": {
      "needs_background": "light"
     },
     "output_type": "display_data"
    },
    {
     "name": "stdout",
     "output_type": "stream",
     "text": [
      "Final loss: 1.2562967498200144\n"
     ]
    }
   ],
   "source": [
    "hidden_size = 256\n",
    "encoder1 = Encoder(input_set.n_words, hidden_size).to(device)\n",
    "decoder1 = Decoder(hidden_size, output_set.n_words).to(device)\n",
    "\n",
    "train_model(input_set, output_set, encoder1, decoder1, pairs, n_iters = 10000)"
   ]
  },
  {
   "cell_type": "code",
   "execution_count": 308,
   "id": "dbf1ba41",
   "metadata": {},
   "outputs": [
    {
     "name": "stdout",
     "output_type": "stream",
     "text": [
      "Bleu score average: 0.69             \n",
      "prediction exact match accuracy: 15.09%             \n",
      "average prediction similarity to target: 78.67%             \n",
      "unknown words found: 323/1677\n"
     ]
    }
   ],
   "source": [
    "results = eval_on_test(input_set, output_set, encoder1, decoder1, source_test, target_test, source_length='long', target_length='long')"
   ]
  },
  {
   "cell_type": "code",
   "execution_count": 309,
   "id": "fade6e98",
   "metadata": {},
   "outputs": [
    {
     "name": "stdout",
     "output_type": "stream",
     "text": [
      "SOURCE: m003 mars financial statement v2 full trial balan 72 net financing 43 total treasury assets 35 deposits with cash center 125 deposits with cash center nan nan nan nan nan bank deposit with cash centre 18 temp for v2\n",
      "TARGET: assets cash investments internal bank accounts deposits with cash center bank depositborrowing with cash center\n",
      "PREDICTION: assets cash investments internal bank accounts deposits with cash center bank depositborrowing with cash center <EOS> \n",
      "\n",
      "SOURCE: m003 mars financial statement v2 full trial balan profit and loss operating profit general admin costs overheads fixed costs office costs nan nan nan nan building rental nontax deductible\n",
      "TARGET: operating expenses operating expenses general administrative expenses facilities property rent non taxdeductible\n",
      "PREDICTION: operating expenses operating expenses general administrative expenses travel relations and <EOS> \n",
      "\n",
      "SOURCE: liabilities noncurrent liabilities intercompany payable nan nan nan nan nan nan nan ap lsgfan interco trade payables\n",
      "TARGET: liabilities noncurrent liabilities intercompany payable nan intercompany payable\n",
      "PREDICTION: liabilities noncurrent liabilities intercompany payable nan intercompany payable <EOS> \n",
      "\n",
      "SOURCE: nan nan nan nan nan nan nan nan nan nan accdep vehiclesia\n",
      "TARGET: statutory future use statutory current and noncurrent assets statutory current and noncurrent assets statutory accumulated depreciation accum deprec machinery equipment legal adj\n",
      "UNKNOWN WORD: vehiclesia\n",
      "PREDICTION: statutory future use statutory current and noncurrent liabilities statutory current and noncurrent assets statutory other liabilities current legal legal <EOS> \n",
      "\n",
      "SOURCE: revenue nan nan nan nan nan nan nan nan nan parts services concessions\n",
      "TARGET: revenue nan nan nan oow revenue sales concessions\n",
      "PREDICTION: revenue nan nan nan nan nan legacy legacy <EOS> \n",
      "\n"
     ]
    }
   ],
   "source": [
    "print_predictions_on_test(input_set, output_set, encoder1, decoder1, source_test, target_test, n=5, source_length='long', target_length='long')"
   ]
  },
  {
   "cell_type": "code",
   "execution_count": 78,
   "id": "c4d94543",
   "metadata": {},
   "outputs": [
    {
     "name": "stdout",
     "output_type": "stream",
     "text": [
      "Training model...\n"
     ]
    },
    {
     "name": "stderr",
     "output_type": "stream",
     "text": [
      "100%|██████████| 10000/10000 [09:12<00:00, 18.09it/s]\n"
     ]
    },
    {
     "data": {
      "image/png": "[encoded data removed]",
      "text/plain": [
       "<Figure size 432x288 with 1 Axes>"
      ]
     },
     "metadata": {
      "needs_background": "light"
     },
     "output_type": "display_data"
    },
    {
     "name": "stdout",
     "output_type": "stream",
     "text": [
      "Final loss: 1.1553346737828105\n"
     ]
    }
   ],
   "source": [
    "hidden_size = 256\n",
    "encoder2 = Encoder(input_set.n_words, hidden_size).to(device)\n",
    "decoder2 = AttnDecoder(hidden_size, output_set.n_words).to(device)\n",
    "\n",
    "train_model(input_set, output_set, encoder2, decoder2, pairs, n_iters = 10000)"
   ]
  },
  {
   "cell_type": "code",
   "execution_count": 79,
   "id": "be4538cf",
   "metadata": {},
   "outputs": [
    {
     "name": "stdout",
     "output_type": "stream",
     "text": [
      "Bleu score average: 0.69             \n",
      "prediction exact match accuracy: 14.97%             \n",
      "average prediction similarity to target: 77.79%             \n",
      "unknown words found: 323/1677\n"
     ]
    }
   ],
   "source": [
    "results = eval_on_test(input_set, output_set, encoder2, decoder2, source_test, target_test, source_length='long', target_length='long')"
   ]
  },
  {
   "cell_type": "code",
   "execution_count": null,
   "id": "50c625e5",
   "metadata": {},
   "outputs": [
    {
     "name": "stdout",
     "output_type": "stream",
     "text": [
      "Training model...\n"
     ]
    },
    {
     "name": "stderr",
     "output_type": "stream",
     "text": [
      "100%|██████████| 50000/50000 [49:17<00:00, 16.91it/s]\n"
     ]
    },
    {
     "data": {
      "image/png": "[encoded data removed]",
      "text/plain": [
       "<Figure size 432x288 with 1 Axes>"
      ]
     },
     "metadata": {
      "needs_background": "light"
     },
     "output_type": "display_data"
    },
    {
     "name": "stdout",
     "output_type": "stream",
     "text": [
      "Final loss: 0.49220491377473247\n"
     ]
    }
   ],
   "source": [
    "hidden_size = 256\n",
    "encoder3 = Encoder(input_set.n_words, hidden_size).to(device)\n",
    "decoder3 = AttnDecoder(hidden_size, output_set.n_words).to(device)\n",
    "\n",
    "train_model(input_set, output_set, encoder3, decoder3, pairs, n_iters = 50000)"
   ]
  },
  {
   "cell_type": "code",
   "execution_count": 81,
   "id": "fe069b23",
   "metadata": {},
   "outputs": [
    {
     "name": "stdout",
     "output_type": "stream",
     "text": [
      "Bleu score average: 0.81             \n",
      "prediction exact match accuracy: 37.98%             \n",
      "average prediction similarity to target: 87.08%             \n",
      "unknown words found: 323/1677\n"
     ]
    }
   ],
   "source": [
    "results = eval_on_test(input_set, output_set, encoder3, decoder3, source_test, target_test, source_length='long', target_length='long')"
   ]
  },
  {
   "cell_type": "code",
   "execution_count": 83,
   "id": "8a78213b",
   "metadata": {},
   "outputs": [
    {
     "name": "stdout",
     "output_type": "stream",
     "text": [
      "SOURCE: m003 mars financial statement v2 full trial balan 31 net operating assets 18 total operating assets 12 gross operating assets 8 current operating assets 4 accounts receivable brokers 137 accounts receivable brokers open rec currency contracts with currency center\n",
      "TARGET: assets prepaid expenses and other current assets other assets current other assets current fair value of treasury derivatives current\n",
      "PREDICTION: assets accounts receivable accounts receivable commodity assets commodity brokers commodity taxes manual <EOS> \n",
      "\n",
      "SOURCE: m003 mars financial statement v2 full trial balan profit and loss operating profit 9 total prime costs inventory valuation adjustment value of production value of production of sub processed raws\n",
      "TARGET: cost of sales cost of manufactured goods inventory changes value of production value of production subprocessed raws\n",
      "UNKNOWN WORD: processed\n",
      "PREDICTION: cost of sales cost of manufactured goods inventory changes inventory value production production production production finished finished goods <EOS> \n",
      "\n",
      "SOURCE: m003 mars financial statement v2 full trial balan profit and loss operating profit 28 total franchise sales expenses 22 consumer promotion 3300 consumer promotions consumer p consumer incentive\n",
      "TARGET: operating expenses brand support consumer promotions consumer promotions consumer promotions consumer incentive\n",
      "PREDICTION: operating expenses brand support consumer promotions consumer promotions consumer promotions external relations <EOS> \n",
      "\n",
      "SOURCE: mfps balance sheet mars fpps structure 2982 net financing liabilities and equity 2943 treasury assets 36908 cash interest bearing bank clearing checks outgoing\n",
      "TARGET: assets cash investments cash external bank accounts local noninterest bearing bank account 21 checks out\n",
      "PREDICTION: assets cash investments cash external bank accounts local noninterest bearing bank foreign 28 checks out <EOS> \n",
      "\n",
      "SOURCE: m003 mars financial statement v2 full trial balan profit and loss operating profit 36 depreciation retired undepreciated capital lease land\n",
      "TARGET: operating expenses depreciation expenses depreciation expenses depreciation land improvements land improvements capital lease retire undepr\n",
      "PREDICTION: operating expenses depreciation expenses depreciation expenses depreciation land improvements land improvements depreciation capital <EOS> \n",
      "\n"
     ]
    }
   ],
   "source": [
    "print_predictions_on_test(input_set, output_set, encoder3, decoder3, source_test, target_test, n=5, source_length='long', target_length='long')"
   ]
  },
  {
   "cell_type": "code",
   "execution_count": 43,
   "id": "f0046183",
   "metadata": {},
   "outputs": [],
   "source": [
    "## Delimited hierarchy strings"
   ]
  },
  {
   "cell_type": "code",
   "execution_count": 310,
   "id": "9cca4ac9",
   "metadata": {},
   "outputs": [
    {
     "name": "stdout",
     "output_type": "stream",
     "text": [
      "9465 pairs\n",
      "Vocabulary:\n",
      "\tlegacy: 4863\n",
      "\tnew: 1750\n",
      "('m003 mars financial statement v2 full trial balan > non corporate accounts > profit and loss > nan > nan > nan > nan > nan > nan > nan > legal analytical ledger 71', 'statutory future use > statutory nonoperating expenses taxes > statutory nonoperating expenses taxes > statutory statistical accounts > analytical ledger revenueexpense legal adjust')\n"
     ]
    }
   ],
   "source": [
    "input_set_dl, output_set_dl, pairs_dl = create_vocabulary('legacy', 'new', source_train, target_train, source_length = 'long', target_length = 'long', hierarchy_delimiter=' > ')\n",
    "print(random.choice(pairs_dl))"
   ]
  },
  {
   "cell_type": "code",
   "execution_count": 311,
   "id": "3655019e",
   "metadata": {},
   "outputs": [
    {
     "name": "stdout",
     "output_type": "stream",
     "text": [
      "Training model...\n"
     ]
    },
    {
     "name": "stderr",
     "output_type": "stream",
     "text": [
      "100%|██████████| 10000/10000 [09:19<00:00, 17.86it/s]\n"
     ]
    },
    {
     "data": {
      "image/png": "[encoded data removed]",
      "text/plain": [
       "<Figure size 432x288 with 1 Axes>"
      ]
     },
     "metadata": {
      "needs_background": "light"
     },
     "output_type": "display_data"
    },
    {
     "name": "stdout",
     "output_type": "stream",
     "text": [
      "Final loss: 1.1484356345481914\n"
     ]
    }
   ],
   "source": [
    "hidden_size = 256\n",
    "encoder_dl = Encoder(input_set_dl.n_words, hidden_size).to(device)\n",
    "decoder_dl = Decoder(hidden_size, output_set_dl.n_words).to(device)\n",
    "\n",
    "train_model(input_set_dl, output_set_dl, encoder_dl, decoder_dl, pairs_dl, n_iters = 10000)"
   ]
  },
  {
   "cell_type": "code",
   "execution_count": 312,
   "id": "9220896f",
   "metadata": {},
   "outputs": [
    {
     "data": {
      "text/plain": [
       "'assets > current assets > accounts receivable > nan > accounts receivable pcca e2'"
      ]
     },
     "execution_count": 312,
     "metadata": {},
     "output_type": "execute_result"
    }
   ],
   "source": [
    "pairs_dl_test = create_pairs(source_test, target_test, source_length='long', target_length='long', hierarchy_delimiter=' > ')\n",
    "pairs_dl_test[4][1]"
   ]
  },
  {
   "cell_type": "code",
   "execution_count": 313,
   "id": "5b3533f9",
   "metadata": {},
   "outputs": [],
   "source": [
    "def calc_hierarchy_level_scores(pair, print_scores=False):\n",
    "    \n",
    "    bleu_scores = []\n",
    "    target = pair[1]\n",
    "    target_levels = target.split(' > ')\n",
    "    target_description = target_levels.pop()\n",
    "    \n",
    "    output_words, _, unknown_word = evaluate(input_set_dl, output_set_dl, encoder_dl, decoder_dl, pair[0])\n",
    "    prediction = ' '.join(output_words[:-1])\n",
    "    prediction_levels = prediction.split(' > ')\n",
    "    #seperate description incase predict less levels than target\n",
    "    prediction_description = prediction_levels.pop()\n",
    "    \n",
    "    #if prediction is shorter than target, pad prediction levels with nan\n",
    "    if len(prediction_levels) < len(target_levels):\n",
    "        level_diff = len(target_levels) - len(prediction_levels)\n",
    "        for i in range(level_diff):\n",
    "            prediction_levels.append('nan')\n",
    "    \n",
    "    for i in range(len(target_levels)):\n",
    "        target_level = target_levels[i]\n",
    "        predict_level = prediction_levels[i]\n",
    "        #if(predict_level == '>'): predict_level='nan'\n",
    "\n",
    "        target_level_words = [target_level.split(' ')]\n",
    "        predict_level_words = predict_level.split(' ')\n",
    "        level_bleu_score = round(sentence_bleu(target_level_words, predict_level_words, weights=(1,)), 7)\n",
    "        bleu_scores.append(level_bleu_score)\n",
    "        \n",
    "        if(print_scores): print(f\"{target_level} - {predict_level} - {level_bleu_score}\")\n",
    "            \n",
    "    target_description_words = [target_description.split(' ')]\n",
    "    predict_description_words = prediction_description.split(' ')\n",
    "    description_bleu_score = round(sentence_bleu(target_description_words, predict_description_words, weights=(1,)), 7)\n",
    "    bleu_scores.append(description_bleu_score)\n",
    "    \n",
    "    if(print_scores): print(f\"{target_description} - {prediction_description} - {description_bleu_score}\")\n",
    "        \n",
    "    target = target_levels + [target_description]\n",
    "    prediction = prediction_levels + [prediction_description]\n",
    "    \n",
    "    return bleu_scores, target, prediction\n",
    "        \n",
    "    "
   ]
  },
  {
   "cell_type": "code",
   "execution_count": 314,
   "id": "688dadb0",
   "metadata": {},
   "outputs": [
    {
     "name": "stdout",
     "output_type": "stream",
     "text": [
      "assets - assets - 1.0\n",
      "cash investments - cash investments - 1.0\n",
      "cash - cash - 1.0\n",
      "external bank accounts foreign noninterest bearing - external bank accounts foreign noninterest bearing - 1.0\n",
      "bank account in foreign currency 14 - bank foreign in checks currency - 0.6549846\n"
     ]
    }
   ],
   "source": [
    "t = 5\n",
    "print_scores = calc_hierarchy_level_scores(pairs_dl_test[t], print_scores=True)"
   ]
  },
  {
   "cell_type": "code",
   "execution_count": 315,
   "id": "1f06d63a",
   "metadata": {},
   "outputs": [],
   "source": [
    "def calc_level_scores_and_avg(pairs):\n",
    "\n",
    "    T_list, P_list = [], []\n",
    "    bleu_scores = []\n",
    "    bleu_scores_TL1 = []\n",
    "    bleu_scores_TL2 = []\n",
    "    bleu_scores_TL3 = []\n",
    "    bleu_scores_TL4 = []\n",
    "    bleu_scores_description = []\n",
    "    score_avg_across_levels =[]\n",
    "    \n",
    "    for t in tqdm(range(len(pairs))):\n",
    "        pair = pairs[t]\n",
    "        level_scores, target_hierarchy, predict_hierarchy=calc_hierarchy_level_scores(pair)\n",
    "        \n",
    "        bleu_scores.append(level_scores)\n",
    "        T_list.append(target_hierarchy)             \n",
    "        P_list.append(predict_hierarchy)\n",
    "\n",
    "        bleu_scores_TL1.append(level_scores[0])\n",
    "        bleu_scores_TL2.append(level_scores[1])\n",
    "        bleu_scores_TL3.append(level_scores[2])\n",
    "        bleu_scores_TL4.append(level_scores[3])\n",
    "        bleu_scores_description.append(level_scores[4])\n",
    "        \n",
    "    score_avg_across_levels.append(statistics.mean(bleu_scores_TL1))\n",
    "    score_avg_across_levels.append(statistics.mean(bleu_scores_TL2))\n",
    "    score_avg_across_levels.append(statistics.mean(bleu_scores_TL3))\n",
    "    score_avg_across_levels.append(statistics.mean(bleu_scores_TL4))\n",
    "    score_avg_across_levels.append(statistics.mean(bleu_scores_description))\n",
    "    \n",
    "    return T_list, P_list, bleu_scores, score_avg_across_levels\n"
   ]
  },
  {
   "cell_type": "code",
   "execution_count": 316,
   "id": "4b363212",
   "metadata": {},
   "outputs": [
    {
     "name": "stderr",
     "output_type": "stream",
     "text": [
      "100%|██████████| 1677/1677 [00:35<00:00, 47.17it/s]\n",
      "100%|██████████| 1677/1677 [00:14<00:00, 118.80it/s]\n"
     ]
    }
   ],
   "source": [
    "def create_results_df(pairs):\n",
    "    \n",
    "    targets, predictions, scores, score_avg_across_levels = calc_level_scores_and_avg(pairs)\n",
    "    results_zipped = list(zip(targets, predictions, scores))\n",
    "\n",
    "    df_results = pd.DataFrame()\n",
    "\n",
    "    for i in tqdm(range(len(targets))):\n",
    "        tar, pred, scores = results_zipped[i]\n",
    "\n",
    "        df_results = df_results.append({'T L1': tar[0], 'P L1': pred[0], 'Score - L1': scores[0],\n",
    "                                        'T L2': tar[1], 'P L2': pred[1], 'Score - L2': scores[1],\n",
    "                                        'T L3': tar[2], 'P L3': pred[2], 'Score - L3': scores[2],\n",
    "                                        'T L4': tar[3], 'P L4': pred[3], 'Score - L4': scores[3],\n",
    "                                        'T Description': tar[4], 'P Description': pred[4], 'Score - Description': scores[4]\n",
    "                                       }, ignore_index=True)\n",
    "        \n",
    "    df_results = df_results.reindex(columns=['T L1', 'P L1', 'Score - L1', 'T L2', 'P L2', 'Score - L2',\n",
    "                                             'T L3', 'P L3', 'Score - L3', 'T L4', 'P L4', 'Score - L4',\n",
    "                                             'T Description', 'P Description', 'Score - Description'\n",
    "                                            ])\n",
    "                  \n",
    "    return df_results, score_avg_across_levels\n",
    "\n",
    "df_results, level_score_avgs = create_results_df(pairs_dl_test)"
   ]
  },
  {
   "cell_type": "code",
   "execution_count": 317,
   "id": "a1252e15",
   "metadata": {},
   "outputs": [
    {
     "data": {
      "text/html": [
       "<div>\n",
       "<style scoped>\n",
       "    .dataframe tbody tr th:only-of-type {\n",
       "        vertical-align: middle;\n",
       "    }\n",
       "\n",
       "    .dataframe tbody tr th {\n",
       "        vertical-align: top;\n",
       "    }\n",
       "\n",
       "    .dataframe thead th {\n",
       "        text-align: right;\n",
       "    }\n",
       "</style>\n",
       "<table border=\"1\" class=\"dataframe\">\n",
       "  <thead>\n",
       "    <tr style=\"text-align: right;\">\n",
       "      <th></th>\n",
       "      <th>T L1</th>\n",
       "      <th>P L1</th>\n",
       "      <th>Score - L1</th>\n",
       "      <th>T L2</th>\n",
       "      <th>P L2</th>\n",
       "      <th>Score - L2</th>\n",
       "      <th>T L3</th>\n",
       "      <th>P L3</th>\n",
       "      <th>Score - L3</th>\n",
       "      <th>T L4</th>\n",
       "      <th>P L4</th>\n",
       "      <th>Score - L4</th>\n",
       "      <th>T Description</th>\n",
       "      <th>P Description</th>\n",
       "      <th>Score - Description</th>\n",
       "    </tr>\n",
       "  </thead>\n",
       "  <tbody>\n",
       "    <tr>\n",
       "      <th>0</th>\n",
       "      <td>cash and cash equivalents</td>\n",
       "      <td>assets</td>\n",
       "      <td>0.0</td>\n",
       "      <td>nan</td>\n",
       "      <td>cash investments</td>\n",
       "      <td>0.0</td>\n",
       "      <td>nan</td>\n",
       "      <td>cash</td>\n",
       "      <td>0.0</td>\n",
       "      <td>nan</td>\n",
       "      <td>external on</td>\n",
       "      <td>0.000000</td>\n",
       "      <td>cash clearing legacy ns</td>\n",
       "      <td>nan</td>\n",
       "      <td>0.000000</td>\n",
       "    </tr>\n",
       "    <tr>\n",
       "      <th>1</th>\n",
       "      <td>below operational secondary management and tec...</td>\n",
       "      <td>statutory future use</td>\n",
       "      <td>0.0</td>\n",
       "      <td>ledgerdata takeon</td>\n",
       "      <td>inventory</td>\n",
       "      <td>0.0</td>\n",
       "      <td>takeon accounts</td>\n",
       "      <td>inventory</td>\n",
       "      <td>0.0</td>\n",
       "      <td>data takeon accounts</td>\n",
       "      <td>accounts</td>\n",
       "      <td>0.135335</td>\n",
       "      <td>semifinished goods data takeon</td>\n",
       "      <td>&gt; goods</td>\n",
       "      <td>0.000000</td>\n",
       "    </tr>\n",
       "    <tr>\n",
       "      <th>2</th>\n",
       "      <td>assets</td>\n",
       "      <td>assets</td>\n",
       "      <td>1.0</td>\n",
       "      <td>current assets</td>\n",
       "      <td>current assets</td>\n",
       "      <td>1.0</td>\n",
       "      <td>accounts receivable</td>\n",
       "      <td>accounts receivable</td>\n",
       "      <td>1.0</td>\n",
       "      <td>nan</td>\n",
       "      <td>nan</td>\n",
       "      <td>1.000000</td>\n",
       "      <td>accounts receivable trade</td>\n",
       "      <td>accounts receivable trade</td>\n",
       "      <td>1.000000</td>\n",
       "    </tr>\n",
       "    <tr>\n",
       "      <th>3</th>\n",
       "      <td>statutory future use</td>\n",
       "      <td>statutory future use</td>\n",
       "      <td>1.0</td>\n",
       "      <td>statutory current and noncurrent assets</td>\n",
       "      <td>statutory current and noncurrent assets</td>\n",
       "      <td>1.0</td>\n",
       "      <td>statutory current and noncurrent assets</td>\n",
       "      <td>statutory current and noncurrent assets</td>\n",
       "      <td>1.0</td>\n",
       "      <td>statutory property plant and equipment at cost</td>\n",
       "      <td>statutory property plant and equipment at cost</td>\n",
       "      <td>1.000000</td>\n",
       "      <td>historic value machinery equipment legal adj</td>\n",
       "      <td>historic value machinery equipment legal adj</td>\n",
       "      <td>1.000000</td>\n",
       "    </tr>\n",
       "    <tr>\n",
       "      <th>4</th>\n",
       "      <td>assets</td>\n",
       "      <td>assets</td>\n",
       "      <td>1.0</td>\n",
       "      <td>current assets</td>\n",
       "      <td>current assets</td>\n",
       "      <td>1.0</td>\n",
       "      <td>accounts receivable</td>\n",
       "      <td>accounts receivable</td>\n",
       "      <td>1.0</td>\n",
       "      <td>nan</td>\n",
       "      <td>nan</td>\n",
       "      <td>1.000000</td>\n",
       "      <td>accounts receivable pcca e2</td>\n",
       "      <td>accounts receivable trade</td>\n",
       "      <td>0.477687</td>\n",
       "    </tr>\n",
       "  </tbody>\n",
       "</table>\n",
       "</div>"
      ],
      "text/plain": [
       "                                                T L1                  P L1  \\\n",
       "0                          cash and cash equivalents                assets   \n",
       "1  below operational secondary management and tec...  statutory future use   \n",
       "2                                             assets                assets   \n",
       "3                               statutory future use  statutory future use   \n",
       "4                                             assets                assets   \n",
       "\n",
       "   Score - L1                                     T L2  \\\n",
       "0         0.0                                      nan   \n",
       "1         0.0                        ledgerdata takeon   \n",
       "2         1.0                           current assets   \n",
       "3         1.0  statutory current and noncurrent assets   \n",
       "4         1.0                           current assets   \n",
       "\n",
       "                                      P L2  Score - L2  \\\n",
       "0                         cash investments         0.0   \n",
       "1                                inventory         0.0   \n",
       "2                           current assets         1.0   \n",
       "3  statutory current and noncurrent assets         1.0   \n",
       "4                           current assets         1.0   \n",
       "\n",
       "                                      T L3  \\\n",
       "0                                      nan   \n",
       "1                          takeon accounts   \n",
       "2                      accounts receivable   \n",
       "3  statutory current and noncurrent assets   \n",
       "4                      accounts receivable   \n",
       "\n",
       "                                      P L3  Score - L3  \\\n",
       "0                                     cash         0.0   \n",
       "1                                inventory         0.0   \n",
       "2                      accounts receivable         1.0   \n",
       "3  statutory current and noncurrent assets         1.0   \n",
       "4                      accounts receivable         1.0   \n",
       "\n",
       "                                             T L4  \\\n",
       "0                                             nan   \n",
       "1                            data takeon accounts   \n",
       "2                                             nan   \n",
       "3  statutory property plant and equipment at cost   \n",
       "4                                             nan   \n",
       "\n",
       "                                             P L4  Score - L4  \\\n",
       "0                                     external on    0.000000   \n",
       "1                                        accounts    0.135335   \n",
       "2                                             nan    1.000000   \n",
       "3  statutory property plant and equipment at cost    1.000000   \n",
       "4                                             nan    1.000000   \n",
       "\n",
       "                                  T Description  \\\n",
       "0                       cash clearing legacy ns   \n",
       "1                semifinished goods data takeon   \n",
       "2                     accounts receivable trade   \n",
       "3  historic value machinery equipment legal adj   \n",
       "4                   accounts receivable pcca e2   \n",
       "\n",
       "                                  P Description  Score - Description  \n",
       "0                                           nan             0.000000  \n",
       "1                                       > goods             0.000000  \n",
       "2                     accounts receivable trade             1.000000  \n",
       "3  historic value machinery equipment legal adj             1.000000  \n",
       "4                     accounts receivable trade             0.477687  "
      ]
     },
     "execution_count": 317,
     "metadata": {},
     "output_type": "execute_result"
    }
   ],
   "source": [
    "df_results.head(5)"
   ]
  },
  {
   "cell_type": "code",
   "execution_count": 318,
   "id": "6de33dc9",
   "metadata": {},
   "outputs": [
    {
     "data": {
      "text/plain": [
       "[0.9107558162790698,\n",
       " 0.8318961207513417,\n",
       " 0.6901965872391175,\n",
       " 0.6242132751937984,\n",
       " 0.3754807967799642]"
      ]
     },
     "execution_count": 318,
     "metadata": {},
     "output_type": "execute_result"
    }
   ],
   "source": [
    "level_score_avgs"
   ]
  },
  {
   "cell_type": "code",
   "execution_count": null,
   "id": "2bfb144e",
   "metadata": {},
   "outputs": [],
   "source": []
  }
 ],
 "metadata": {
  "kernelspec": {
   "display_name": "conda_pytorch_p36",
   "language": "python",
   "name": "conda_pytorch_p36"
  },
  "language_info": {
   "codemirror_mode": {
    "name": "ipython",
    "version": 3
   },
   "file_extension": ".py",
   "mimetype": "text/x-python",
   "name": "python",
   "nbconvert_exporter": "python",
   "pygments_lexer": "ipython3",
   "version": "3.6.13"
  }
 },
 "nbformat": 4,
 "nbformat_minor": 5
}
